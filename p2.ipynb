{
 "cells": [
  {
   "cell_type": "code",
   "execution_count": 1,
   "id": "17346709-dbb2-47f7-b701-49493c14607c",
   "metadata": {},
   "outputs": [
    {
     "name": "stdout",
     "output_type": "stream",
     "text": [
      "one dimenstional array a= [1 2 3]\n",
      "two dimenstional array b= (array([1, 2, 3]), [4, 5, 6])\n",
      "size of the array : (3,)\n",
      "element at indices 0,1,2 1 2 3\n",
      "array after changing the amount at index 0: [5 2 3]\n",
      "an array of all zeros: [[0. 0.]\n",
      " [0. 0.]]\n",
      "an array of all ones: [[1. 1.]]\n",
      "a constant array : 6\n",
      "a 2*2 identify matrix: [[1. 0.]\n",
      " [0. 1.]]\n",
      "an array with random values: [[0.05460424 0.0802725 ]\n",
      " [0.93080885 0.25277294]]\n"
     ]
    }
   ],
   "source": [
    "import numpy as np\n",
    "a=np.array([1,2,3])\n",
    "print(\"one dimenstional array a=\",a)\n",
    "b=np.array([1,2,3]),([4,5,6])\n",
    "print(\"two dimenstional array b=\",b)\n",
    "print(\"size of the array :\",a.shape)\n",
    "print(\"element at indices 0,1,2\",a[0],a[1],a[2])\n",
    "a[0]=5\n",
    "print(\"array after changing the amount at index 0:\",a)\n",
    "a=np.zeros((2,2))\n",
    "print(\"an array of all zeros:\",a)\n",
    "b=np.ones((1,2))\n",
    "print(\"an array of all ones:\",b)\n",
    "c=np.full((2,2),7)\n",
    "print(\"a constant array :\",6)\n",
    "d=np.eye(2)\n",
    "print(\"a 2*2 identify matrix:\",d)\n",
    "e=np.random.random((2,2))\n",
    "print(\"an array with random values:\",e)"
   ]
  },
  {
   "cell_type": "code",
   "execution_count": 2,
   "id": "5daf7f3b-9958-4b76-aa3c-388181301868",
   "metadata": {},
   "outputs": [
    {
     "name": "stdout",
     "output_type": "stream",
     "text": [
      "array indexing:slicing\n",
      "a1= [[ 1  2  3  4]\n",
      " [ 5  6  7  8]\n",
      " [ 9 10 11 12]]\n"
     ]
    }
   ],
   "source": [
    "import numpy as np\n",
    "print(\"array indexing:slicing\")\n",
    "a1=np.array([[1,2,3,4],[5,6,7,8],[9,10,11,12]])\n",
    "print(\"a1=\",a1)\n"
   ]
  },
  {
   "cell_type": "code",
   "execution_count": 3,
   "id": "6da56ab8-c34f-4898-a202-55a57c04de56",
   "metadata": {},
   "outputs": [
    {
     "name": "stdout",
     "output_type": "stream",
     "text": [
      "subarray consisting of first two rows and columns 1 and 2: [[2 3]\n",
      " [6 7]]\n"
     ]
    }
   ],
   "source": [
    "b=a1[:2,1:3]\n",
    "print(\"subarray consisting of first two rows and columns 1 and 2:\",b)"
   ]
  },
  {
   "cell_type": "code",
   "execution_count": 4,
   "id": "af213502-d245-435b-97ea-8c36057f2ed4",
   "metadata": {},
   "outputs": [
    {
     "name": "stdout",
     "output_type": "stream",
     "text": [
      "subarray consists of second row: [[5 6 7 8]]\n",
      "accessing columns:\n",
      "[ 2  6 10] (3,)\n"
     ]
    }
   ],
   "source": [
    "b=a1[1:2,:]\n",
    "print(\"subarray consists of second row:\",b)\n",
    "print(\"accessing columns:\")\n",
    "b=a1[:,1]\n",
    "print(b,b.shape)"
   ]
  },
  {
   "cell_type": "code",
   "execution_count": 6,
   "id": "6560f0d8-ada9-4242-8200-3ab118b6d589",
   "metadata": {},
   "outputs": [
    {
     "name": "stdout",
     "output_type": "stream",
     "text": [
      "[[ 2]\n",
      " [ 6]\n",
      " [10]] (3, 1)\n",
      "array integer indexing:\n",
      "a2= [[1 2]\n",
      " [3 4]\n",
      " [5 6]]\n",
      "example of array integer indexing: [1 4 5]\n",
      "[2 2]\n",
      "[2 2]\n"
     ]
    }
   ],
   "source": [
    "c=a1[:,1:2]\n",
    "print(c,c.shape)\n",
    "print(\"array integer indexing:\")\n",
    "a2=np.array([[1,2],[3,4],[5,6]])\n",
    "print(\"a2=\",a2)\n",
    "print(\"example of array integer indexing:\",a2[[0,1,2],[0,1,0]])\n",
    "print(a2[[0,0],[1,1]])\n",
    "print(np.array([a2[0,1],a1[0,1]]))"
   ]
  },
  {
   "cell_type": "code",
   "execution_count": 10,
   "id": "98380882-8e4e-4963-a6e2-3bb7c262f259",
   "metadata": {},
   "outputs": [
    {
     "name": "stdout",
     "output_type": "stream",
     "text": [
      "a3= [[ 1  2  3]\n",
      " [ 4  5  6]\n",
      " [ 7  8  9]\n",
      " [10 11 12]]\n",
      "b= [0 2 0 1]\n",
      "a3= [ 1  6  7 11]\n",
      "a3= [[ 1  2  3]\n",
      " [ 4  5  6]\n",
      " [ 7  8  9]\n",
      " [10 11 12]]\n",
      "boolean array indexing:\n",
      "a= [[1 2]\n",
      " [3 4]\n",
      " [5 6]]\n",
      "elements greater than 2: [3 4 5 6]\n"
     ]
    }
   ],
   "source": [
    "a3=a=np.array([[1,2,3],[4,5,6],[7,8,9],[10,11,12]])\n",
    "print(\"a3=\",a3)\n",
    "b=konp.array([0,2,0,1])\n",
    "print(\"b=\",b)\n",
    "print(\"a3=\",a3[np.arange(4),b])\n",
    "a3[np.arange(4),b]\n",
    "print(\"a3=\",a3)\n",
    "print(\"boolean array indexing:\")\n",
    "a=np.array([[1,2],[3,4],[5,6]])\n",
    "print(\"a=\",a)\n",
    "bool_idx=(a>2)\n",
    "print(\"elements greater than 2:\",a[bool_idx])"
   ]
  },
  {
   "cell_type": "code",
   "execution_count": 15,
   "id": "ccefc8c3-7d74-4446-8230-0c7bf457902b",
   "metadata": {},
   "outputs": [
    {
     "name": "stdout",
     "output_type": "stream",
     "text": [
      "x= [[1. 2.]\n",
      " [3. 4.]]\n",
      "y= [[6. 9.]\n",
      " [4. 4.]]\n",
      "element wise addition: [[2. 4.]\n",
      " [6. 8.]]\n",
      "element wise subtract: [[-5. -7.]\n",
      " [-1.  0.]]\n",
      "element wise multiplication: [[ 6. 18.]\n",
      " [12. 16.]]\n",
      "element wise square root of x: [[1.         1.41421356]\n",
      " [1.73205081 2.        ]]\n",
      "matrix multiplication: [[14. 17.]\n",
      " [34. 43.]]\n",
      "sum of all element of matrix x: 10.0\n",
      "sum of elements in each column of matrix y: [10. 13.]\n",
      "sum of elements in each row of matrix y: [15.  8.]\n",
      "Transpose of matrix x: [[1. 3.]\n",
      " [2. 4.]]\n"
     ]
    }
   ],
   "source": [
    "import numpy as n \n",
    "x=np.array([[1,2],[3,4]],dtype=np.float64)\n",
    "y=np.array([[6,9],[4,4]],dtype=np.float64)\n",
    "print(\"x=\",x)\n",
    "print(\"y=\",y)\n",
    "print(\"element wise addition:\",np.add(x,x))\n",
    "print(\"element wise subtract:\",np.subtract(x,y))\n",
    "print(\"element wise multiplication:\",np.multiply(x,y))\n",
    "print(\"element wise square root of x:\",np.sqrt(x))\n",
    "print(\"matrix multiplication:\",np.dot(x,y))\n",
    "print(\"sum of all element of matrix x:\",np.sum(x))\n",
    "print(\"sum of elements in each column of matrix y:\",np.sum(y,axis=0))\n",
    "print(\"sum of elements in each row of matrix y:\",np.sum(y,axis=1))\n",
    "print(\"Transpose of matrix x:\",x.T)"
   ]
  },
  {
   "cell_type": "code",
   "execution_count": null,
   "id": "10fe7383-2cbe-424d-9399-18cf8ee603d6",
   "metadata": {},
   "outputs": [],
   "source": []
  }
 ],
 "metadata": {
  "kernelspec": {
   "display_name": "Python 3 (ipykernel)",
   "language": "python",
   "name": "python3"
  },
  "language_info": {
   "codemirror_mode": {
    "name": "ipython",
    "version": 3
   },
   "file_extension": ".py",
   "mimetype": "text/x-python",
   "name": "python",
   "nbconvert_exporter": "python",
   "pygments_lexer": "ipython3",
   "version": "3.12.4"
  }
 },
 "nbformat": 4,
 "nbformat_minor": 5
}

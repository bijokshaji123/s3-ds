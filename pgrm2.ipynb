{
 "cells": [
  {
   "cell_type": "code",
   "execution_count": 2,
   "id": "6b50f059-814d-4e2b-b740-08ae655838a1",
   "metadata": {},
   "outputs": [
    {
     "name": "stdout",
     "output_type": "stream",
     "text": [
      "Array indexing: slicing\n",
      "al =  [[ 1  2  3  4]\n",
      " [ 5  6  7  8]\n",
      " [ 9 10 11 12]]\n",
      "Subarray consisting of first two rows and columns 1 and 2:  [[2 3]\n",
      " [6 7]]\n",
      "Subarray consisting of second row:  [[5 6 7 8]]\n",
      "Accessing columns: \n",
      "[ 2  6 10] (3,)\n",
      "[[ 2]\n",
      " [ 6]\n",
      " [10]] (3, 1)\n",
      "Array integer indexing: \n",
      "a2 =  [[1 2]\n",
      " [3 4]\n",
      " [5 6]]\n",
      "Example of array integer indexing:  [1 4 5]\n",
      "Equivalent to the previous integer array indexing example:  [2 2]\n",
      "[2 2]\n",
      "Array of indices example: \n",
      "a3 =  [[ 1  2  3]\n",
      " [ 4  5  6]\n",
      " [ 7  8  9]\n",
      " [10 11 12]]\n",
      "b =  [0 2 0 1]\n",
      "a3 =  [ 1  6  7 11]\n",
      "a3 after mutation =  [[11  2  3]\n",
      " [ 4  5 16]\n",
      " [17  8  9]\n",
      " [10 21 12]]\n",
      "Boolean array indexing: \n",
      "a =  [[1 2]\n",
      " [3 4]\n",
      " [5 6]]\n",
      "Elements greater than 2:  [3 4 5 6]\n"
     ]
    }
   ],
   "source": [
    "import numpy as np\n",
    "print(\"Array indexing: slicing\")\n",
    "al = np.array([[1, 2, 3, 4], [5, 6, 7, 8], [9, 10, 11, 12]])\n",
    "print(\"al = \", al)\n",
    "b = al[:2, 1:3]\n",
    "print(\"Subarray consisting of first two rows and columns 1 and 2: \", b)\n",
    "b = al[1:2, :]\n",
    "print(\"Subarray consisting of second row: \", b)\n",
    "print(\"Accessing columns: \")\n",
    "b = al[:, 1]\n",
    "print(b, b.shape)\n",
    "c = al[:, 1:2]\n",
    "print(c, c.shape)\n",
    "print(\"Array integer indexing: \")\n",
    "a2 = np.array([[1, 2], [3, 4], [5, 6]])\n",
    "print(\"a2 = \", a2)\n",
    "print(\"Example of array integer indexing: \", a2[[0, 1, 2], [0, 1, 0]])\n",
    "print(\"Equivalent to the previous integer array indexing example: \", a2[[0, 0], [1, 1]])\n",
    "print(np.array([a2[0, 1], a2[0, 1]]))\n",
    "print(\"Array of indices example: \")\n",
    "a3 = np.array([[1, 2, 3], [4, 5, 6], [7, 8, 9], [10, 11, 12]])\n",
    "print(\"a3 = \", a3)\n",
    "b = np.array([0, 2, 0, 1])\n",
    "print(\"b = \", b)\n",
    "print(\"a3 = \", a3[np.arange(4), b])\n",
    "a3[np.arange(4), b] += 10\n",
    "print(\"a3 after mutation = \", a3)\n",
    "print(\"Boolean array indexing: \")\n",
    "a = np.array([[1, 2], [3, 4], [5, 6]])\n",
    "print(\"a = \", a)\n",
    "bool_idx = (a > 2)\n",
    "print(\"Elements greater than 2: \", a[bool_idx])\n"
   ]
  },
  {
   "cell_type": "code",
   "execution_count": null,
   "id": "93ed859d-4120-4174-9f1e-c8f1787d0eba",
   "metadata": {},
   "outputs": [],
   "source": [
    "import numpy as np  # Corrected import statement\n",
    "x = np.array([[1, 2], [3, 4]], dtype=np.float64)\n",
    "y = np.array([[6, 9], [4, 4]], dtype=np.float64)\n",
    "print(\"x = \", x)\n",
    "print(\"y = \", y)  # Fixed the period to a comma\n",
    "print(\"Element-wise addition of x and y: \", np.add(x, y))  # Fixed to add x and y\n",
    "print(\"Element-wise subtraction of x and y: \", np.subtract(x, y))\n",
    "print(\"Element-wise multiplication of x and y: \", np.multiply(x, y))\n",
    "print(\"Element-wise square root of x: \", np.sqrt(x))\n",
    "print(\"Matrix multiplication of x and y: \", np.dot(x, y))\n",
    "print(\"Sum of all elements of matrix x: \", np.sum(x))\n",
    "print(\"Sum of elements in each column of matrix y: \", np.sum(y, axis=0))\n",
    "print(\"Sum of elements in each row of matrix y: \", np.sum(y, axis=1))\n",
    "print(\"Transpose of matrix x: \", x.T)\n"
   ]
  }
 ],
 "metadata": {
  "kernelspec": {
   "display_name": "Python 3 (ipykernel)",
   "language": "python",
   "name": "python3"
  },
  "language_info": {
   "codemirror_mode": {
    "name": "ipython",
    "version": 3
   },
   "file_extension": ".py",
   "mimetype": "text/x-python",
   "name": "python",
   "nbconvert_exporter": "python",
   "pygments_lexer": "ipython3",
   "version": "3.12.4"
  }
 },
 "nbformat": 4,
 "nbformat_minor": 5
}
